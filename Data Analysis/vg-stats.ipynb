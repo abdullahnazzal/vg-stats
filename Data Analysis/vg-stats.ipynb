{
 "cells": [
  {
   "cell_type": "markdown",
   "metadata": {},
   "source": [
    "# Lab: 12 - Data Analysis with Pandas\n",
    "\n",
    "## Video Game Sales(vgsales.csv)\n",
    "\n",
    "## Abdullah Nazzal 25/10/2021"
   ]
  },
  {
   "cell_type": "code",
   "execution_count": 161,
   "metadata": {},
   "outputs": [
    {
     "data": {
      "text/html": [
       "<div>\n",
       "<style scoped>\n",
       "    .dataframe tbody tr th:only-of-type {\n",
       "        vertical-align: middle;\n",
       "    }\n",
       "\n",
       "    .dataframe tbody tr th {\n",
       "        vertical-align: top;\n",
       "    }\n",
       "\n",
       "    .dataframe thead th {\n",
       "        text-align: right;\n",
       "    }\n",
       "</style>\n",
       "<table border=\"1\" class=\"dataframe\">\n",
       "  <thead>\n",
       "    <tr style=\"text-align: right;\">\n",
       "      <th></th>\n",
       "      <th>Rank</th>\n",
       "      <th>Name</th>\n",
       "      <th>Platform</th>\n",
       "      <th>Year</th>\n",
       "      <th>Genre</th>\n",
       "      <th>Publisher</th>\n",
       "      <th>NA_Sales</th>\n",
       "      <th>EU_Sales</th>\n",
       "      <th>JP_Sales</th>\n",
       "      <th>Other_Sales</th>\n",
       "      <th>Global_Sales</th>\n",
       "    </tr>\n",
       "  </thead>\n",
       "  <tbody>\n",
       "    <tr>\n",
       "      <th>10417</th>\n",
       "      <td>10419</td>\n",
       "      <td>Winning Eleven: Pro Evolution Soccer 2007</td>\n",
       "      <td>X360</td>\n",
       "      <td>2006.0</td>\n",
       "      <td>Sports</td>\n",
       "      <td>Konami Digital Entertainment</td>\n",
       "      <td>0.09</td>\n",
       "      <td>0.00</td>\n",
       "      <td>0.0</td>\n",
       "      <td>0.01</td>\n",
       "      <td>0.1</td>\n",
       "    </tr>\n",
       "    <tr>\n",
       "      <th>10418</th>\n",
       "      <td>10420</td>\n",
       "      <td>Ennichi no Tatsujin</td>\n",
       "      <td>Wii</td>\n",
       "      <td>2006.0</td>\n",
       "      <td>Misc</td>\n",
       "      <td>Namco Bandai Games</td>\n",
       "      <td>0.00</td>\n",
       "      <td>0.00</td>\n",
       "      <td>0.1</td>\n",
       "      <td>0.00</td>\n",
       "      <td>0.1</td>\n",
       "    </tr>\n",
       "    <tr>\n",
       "      <th>10419</th>\n",
       "      <td>10421</td>\n",
       "      <td>Squinkies 2: Adventure Mall Surprize!</td>\n",
       "      <td>DS</td>\n",
       "      <td>2011.0</td>\n",
       "      <td>Platform</td>\n",
       "      <td>Activision</td>\n",
       "      <td>0.10</td>\n",
       "      <td>0.00</td>\n",
       "      <td>0.0</td>\n",
       "      <td>0.01</td>\n",
       "      <td>0.1</td>\n",
       "    </tr>\n",
       "    <tr>\n",
       "      <th>10420</th>\n",
       "      <td>10422</td>\n",
       "      <td>Wizardry VI: Bane of the Cosmic Forge</td>\n",
       "      <td>SNES</td>\n",
       "      <td>1995.0</td>\n",
       "      <td>Role-Playing</td>\n",
       "      <td>ASCII Entertainment</td>\n",
       "      <td>0.00</td>\n",
       "      <td>0.00</td>\n",
       "      <td>0.1</td>\n",
       "      <td>0.00</td>\n",
       "      <td>0.1</td>\n",
       "    </tr>\n",
       "    <tr>\n",
       "      <th>10421</th>\n",
       "      <td>10423</td>\n",
       "      <td>Power Pocket Koushien</td>\n",
       "      <td>DS</td>\n",
       "      <td>2005.0</td>\n",
       "      <td>Sports</td>\n",
       "      <td>Konami Digital Entertainment</td>\n",
       "      <td>0.00</td>\n",
       "      <td>0.00</td>\n",
       "      <td>0.1</td>\n",
       "      <td>0.00</td>\n",
       "      <td>0.1</td>\n",
       "    </tr>\n",
       "    <tr>\n",
       "      <th>...</th>\n",
       "      <td>...</td>\n",
       "      <td>...</td>\n",
       "      <td>...</td>\n",
       "      <td>...</td>\n",
       "      <td>...</td>\n",
       "      <td>...</td>\n",
       "      <td>...</td>\n",
       "      <td>...</td>\n",
       "      <td>...</td>\n",
       "      <td>...</td>\n",
       "      <td>...</td>\n",
       "    </tr>\n",
       "    <tr>\n",
       "      <th>10812</th>\n",
       "      <td>10814</td>\n",
       "      <td>Minority Report: Everybody Runs</td>\n",
       "      <td>XB</td>\n",
       "      <td>2002.0</td>\n",
       "      <td>Action</td>\n",
       "      <td>Activision</td>\n",
       "      <td>0.07</td>\n",
       "      <td>0.02</td>\n",
       "      <td>0.0</td>\n",
       "      <td>0.00</td>\n",
       "      <td>0.1</td>\n",
       "    </tr>\n",
       "    <tr>\n",
       "      <th>10813</th>\n",
       "      <td>10815</td>\n",
       "      <td>MindJack</td>\n",
       "      <td>X360</td>\n",
       "      <td>2011.0</td>\n",
       "      <td>Shooter</td>\n",
       "      <td>Square Enix</td>\n",
       "      <td>0.07</td>\n",
       "      <td>0.02</td>\n",
       "      <td>0.0</td>\n",
       "      <td>0.01</td>\n",
       "      <td>0.1</td>\n",
       "    </tr>\n",
       "    <tr>\n",
       "      <th>10814</th>\n",
       "      <td>10816</td>\n",
       "      <td>ReCore</td>\n",
       "      <td>XOne</td>\n",
       "      <td>2016.0</td>\n",
       "      <td>Action</td>\n",
       "      <td>Microsoft Game Studios</td>\n",
       "      <td>0.06</td>\n",
       "      <td>0.03</td>\n",
       "      <td>0.0</td>\n",
       "      <td>0.01</td>\n",
       "      <td>0.1</td>\n",
       "    </tr>\n",
       "    <tr>\n",
       "      <th>10815</th>\n",
       "      <td>10817</td>\n",
       "      <td>NASCAR</td>\n",
       "      <td>PSP</td>\n",
       "      <td>2006.0</td>\n",
       "      <td>Racing</td>\n",
       "      <td>Electronic Arts</td>\n",
       "      <td>0.09</td>\n",
       "      <td>0.00</td>\n",
       "      <td>0.0</td>\n",
       "      <td>0.01</td>\n",
       "      <td>0.1</td>\n",
       "    </tr>\n",
       "    <tr>\n",
       "      <th>10816</th>\n",
       "      <td>10818</td>\n",
       "      <td>Halo 2</td>\n",
       "      <td>PC</td>\n",
       "      <td>2007.0</td>\n",
       "      <td>Shooter</td>\n",
       "      <td>Microsoft Game Studios</td>\n",
       "      <td>0.01</td>\n",
       "      <td>0.06</td>\n",
       "      <td>0.0</td>\n",
       "      <td>0.02</td>\n",
       "      <td>0.1</td>\n",
       "    </tr>\n",
       "  </tbody>\n",
       "</table>\n",
       "<p>400 rows × 11 columns</p>\n",
       "</div>"
      ],
      "text/plain": [
       "        Rank                                       Name Platform    Year  \\\n",
       "10417  10419  Winning Eleven: Pro Evolution Soccer 2007     X360  2006.0   \n",
       "10418  10420                        Ennichi no Tatsujin      Wii  2006.0   \n",
       "10419  10421      Squinkies 2: Adventure Mall Surprize!       DS  2011.0   \n",
       "10420  10422      Wizardry VI: Bane of the Cosmic Forge     SNES  1995.0   \n",
       "10421  10423                      Power Pocket Koushien       DS  2005.0   \n",
       "...      ...                                        ...      ...     ...   \n",
       "10812  10814            Minority Report: Everybody Runs       XB  2002.0   \n",
       "10813  10815                                   MindJack     X360  2011.0   \n",
       "10814  10816                                     ReCore     XOne  2016.0   \n",
       "10815  10817                                     NASCAR      PSP  2006.0   \n",
       "10816  10818                                     Halo 2       PC  2007.0   \n",
       "\n",
       "              Genre                     Publisher  NA_Sales  EU_Sales  \\\n",
       "10417        Sports  Konami Digital Entertainment      0.09      0.00   \n",
       "10418          Misc            Namco Bandai Games      0.00      0.00   \n",
       "10419      Platform                    Activision      0.10      0.00   \n",
       "10420  Role-Playing           ASCII Entertainment      0.00      0.00   \n",
       "10421        Sports  Konami Digital Entertainment      0.00      0.00   \n",
       "...             ...                           ...       ...       ...   \n",
       "10812        Action                    Activision      0.07      0.02   \n",
       "10813       Shooter                   Square Enix      0.07      0.02   \n",
       "10814        Action        Microsoft Game Studios      0.06      0.03   \n",
       "10815        Racing               Electronic Arts      0.09      0.00   \n",
       "10816       Shooter        Microsoft Game Studios      0.01      0.06   \n",
       "\n",
       "       JP_Sales  Other_Sales  Global_Sales  \n",
       "10417       0.0         0.01           0.1  \n",
       "10418       0.1         0.00           0.1  \n",
       "10419       0.0         0.01           0.1  \n",
       "10420       0.1         0.00           0.1  \n",
       "10421       0.1         0.00           0.1  \n",
       "...         ...          ...           ...  \n",
       "10812       0.0         0.00           0.1  \n",
       "10813       0.0         0.01           0.1  \n",
       "10814       0.0         0.01           0.1  \n",
       "10815       0.0         0.01           0.1  \n",
       "10816       0.0         0.02           0.1  \n",
       "\n",
       "[400 rows x 11 columns]"
      ]
     },
     "execution_count": 161,
     "metadata": {},
     "output_type": "execute_result"
    }
   ],
   "source": [
    "import pandas as pd\n",
    "df = pd.read_csv('../vgsales.csv')\n",
    "# games=df[df['Global_Sales']==0.10][['Publisher','Global_Sales']]\n",
    "games=df[df['Global_Sales']==0.10]\n",
    "games\n",
    "\n"
   ]
  },
  {
   "cell_type": "code",
   "execution_count": 178,
   "metadata": {},
   "outputs": [
    {
     "name": "stdout",
     "output_type": "stream",
     "text": [
      "Which company is the most common video game publisher?\n"
     ]
    },
    {
     "data": {
      "text/plain": [
       "'Activision'"
      ]
     },
     "execution_count": 178,
     "metadata": {},
     "output_type": "execute_result"
    }
   ],
   "source": [
    "print(\"Which company is the most common video game publisher?\")\n",
    "# most_common_publisher=games['Publisher'].value_counts().idxmax()\n",
    "most_common_publisher=games['Publisher'].mode().item()\n",
    "most_common_publisher"
   ]
  },
  {
   "cell_type": "code",
   "execution_count": 177,
   "metadata": {},
   "outputs": [
    {
     "name": "stdout",
     "output_type": "stream",
     "text": [
      "What’s the most common platform?\n"
     ]
    },
    {
     "data": {
      "text/plain": [
       "'DS'"
      ]
     },
     "execution_count": 177,
     "metadata": {},
     "output_type": "execute_result"
    }
   ],
   "source": [
    "print(\"What’s the most common platform?\")\n",
    "most_common_platform=games['Platform'].mode().item()\n",
    "most_common_platform"
   ]
  },
  {
   "cell_type": "code",
   "execution_count": 179,
   "metadata": {},
   "outputs": [
    {
     "name": "stdout",
     "output_type": "stream",
     "text": [
      "What about the most common genre?\n"
     ]
    },
    {
     "data": {
      "text/plain": [
       "'Action'"
      ]
     },
     "execution_count": 179,
     "metadata": {},
     "output_type": "execute_result"
    }
   ],
   "source": [
    "print(\"What about the most common genre?\")\n",
    "most_common_genre=games['Genre'].mode().item()\n",
    "most_common_genre"
   ]
  },
  {
   "cell_type": "code",
   "execution_count": 165,
   "metadata": {},
   "outputs": [
    {
     "name": "stdout",
     "output_type": "stream",
     "text": [
      "What are the top 20 highest grossing games?\n"
     ]
    },
    {
     "data": {
      "text/html": [
       "<div>\n",
       "<style scoped>\n",
       "    .dataframe tbody tr th:only-of-type {\n",
       "        vertical-align: middle;\n",
       "    }\n",
       "\n",
       "    .dataframe tbody tr th {\n",
       "        vertical-align: top;\n",
       "    }\n",
       "\n",
       "    .dataframe thead th {\n",
       "        text-align: right;\n",
       "    }\n",
       "</style>\n",
       "<table border=\"1\" class=\"dataframe\">\n",
       "  <thead>\n",
       "    <tr style=\"text-align: right;\">\n",
       "      <th></th>\n",
       "      <th>Name</th>\n",
       "    </tr>\n",
       "  </thead>\n",
       "  <tbody>\n",
       "    <tr>\n",
       "      <th>10417</th>\n",
       "      <td>Winning Eleven: Pro Evolution Soccer 2007</td>\n",
       "    </tr>\n",
       "    <tr>\n",
       "      <th>10418</th>\n",
       "      <td>Ennichi no Tatsujin</td>\n",
       "    </tr>\n",
       "    <tr>\n",
       "      <th>10419</th>\n",
       "      <td>Squinkies 2: Adventure Mall Surprize!</td>\n",
       "    </tr>\n",
       "    <tr>\n",
       "      <th>10420</th>\n",
       "      <td>Wizardry VI: Bane of the Cosmic Forge</td>\n",
       "    </tr>\n",
       "    <tr>\n",
       "      <th>10421</th>\n",
       "      <td>Power Pocket Koushien</td>\n",
       "    </tr>\n",
       "    <tr>\n",
       "      <th>10422</th>\n",
       "      <td>Gravity Games Bike: Street Vert Dirt</td>\n",
       "    </tr>\n",
       "    <tr>\n",
       "      <th>10423</th>\n",
       "      <td>Contact</td>\n",
       "    </tr>\n",
       "    <tr>\n",
       "      <th>10424</th>\n",
       "      <td>Pro Yaky? Spirits 2010</td>\n",
       "    </tr>\n",
       "    <tr>\n",
       "      <th>10425</th>\n",
       "      <td>Princess Debut</td>\n",
       "    </tr>\n",
       "    <tr>\n",
       "      <th>10426</th>\n",
       "      <td>My First Dollhouse</td>\n",
       "    </tr>\n",
       "    <tr>\n",
       "      <th>10427</th>\n",
       "      <td>Cloudy With a Chance of Meatballs</td>\n",
       "    </tr>\n",
       "    <tr>\n",
       "      <th>10428</th>\n",
       "      <td>Family Party: 30 Great Games</td>\n",
       "    </tr>\n",
       "    <tr>\n",
       "      <th>10429</th>\n",
       "      <td>Top Spin</td>\n",
       "    </tr>\n",
       "    <tr>\n",
       "      <th>10430</th>\n",
       "      <td>Derby Stallion P</td>\n",
       "    </tr>\n",
       "    <tr>\n",
       "      <th>10431</th>\n",
       "      <td>Kenka Bancho Bros: Tokyo Battle Royale</td>\n",
       "    </tr>\n",
       "    <tr>\n",
       "      <th>10432</th>\n",
       "      <td>UFC: Tapout 2</td>\n",
       "    </tr>\n",
       "    <tr>\n",
       "      <th>10433</th>\n",
       "      <td>Adventure Time: Finn &amp; Jake Investigations</td>\n",
       "    </tr>\n",
       "    <tr>\n",
       "      <th>10434</th>\n",
       "      <td>Kamen Rider: Battride War II</td>\n",
       "    </tr>\n",
       "    <tr>\n",
       "      <th>10435</th>\n",
       "      <td>Kirarin * Revolution: Tsukutte Misechao! Kime ...</td>\n",
       "    </tr>\n",
       "    <tr>\n",
       "      <th>10436</th>\n",
       "      <td>Thrillville: Off the Rails</td>\n",
       "    </tr>\n",
       "  </tbody>\n",
       "</table>\n",
       "</div>"
      ],
      "text/plain": [
       "                                                    Name\n",
       "10417          Winning Eleven: Pro Evolution Soccer 2007\n",
       "10418                                Ennichi no Tatsujin\n",
       "10419              Squinkies 2: Adventure Mall Surprize!\n",
       "10420              Wizardry VI: Bane of the Cosmic Forge\n",
       "10421                              Power Pocket Koushien\n",
       "10422               Gravity Games Bike: Street Vert Dirt\n",
       "10423                                            Contact\n",
       "10424                             Pro Yaky? Spirits 2010\n",
       "10425                                     Princess Debut\n",
       "10426                                 My First Dollhouse\n",
       "10427                  Cloudy With a Chance of Meatballs\n",
       "10428                       Family Party: 30 Great Games\n",
       "10429                                           Top Spin\n",
       "10430                                   Derby Stallion P\n",
       "10431             Kenka Bancho Bros: Tokyo Battle Royale\n",
       "10432                                      UFC: Tapout 2\n",
       "10433         Adventure Time: Finn & Jake Investigations\n",
       "10434                       Kamen Rider: Battride War II\n",
       "10435  Kirarin * Revolution: Tsukutte Misechao! Kime ...\n",
       "10436                         Thrillville: Off the Rails"
      ]
     },
     "execution_count": 165,
     "metadata": {},
     "output_type": "execute_result"
    }
   ],
   "source": [
    "print(\"What are the top 20 highest grossing games?\")\n",
    "top_twenty_highest_grossing_games=games.head(20)[['Name']]\n",
    "top_twenty_highest_grossing_games\n"
   ]
  },
  {
   "cell_type": "code",
   "execution_count": 187,
   "metadata": {},
   "outputs": [
    {
     "name": "stdout",
     "output_type": "stream",
     "text": [
      "For North American video game sales, what’s the median?\n"
     ]
    },
    {
     "data": {
      "text/plain": [
       "0.06"
      ]
     },
     "execution_count": 187,
     "metadata": {},
     "output_type": "execute_result"
    }
   ],
   "source": [
    "print(\"For North American video game sales, what’s the median?\")\n",
    "# For North American video game sales, what’s the median?\n",
    "# games=df[df['NA_Sales']==0.10].median()\n",
    "# Provide a secondary output showing ten games surrounding the median sales output\n",
    "\n",
    "# assume that games with same median value are sorted in descending order\n",
    "na_median_sales=games['NA_Sales'].median()\n",
    "na_median_sales\n",
    "\n",
    "\n"
   ]
  },
  {
   "cell_type": "code",
   "execution_count": 167,
   "metadata": {},
   "outputs": [
    {
     "name": "stdout",
     "output_type": "stream",
     "text": [
      "For the top-selling game of all time, how many standard deviations above/below the mean are its sales for North America?\n"
     ]
    },
    {
     "data": {
      "text/plain": [
       "0.036374126349222095"
      ]
     },
     "execution_count": 167,
     "metadata": {},
     "output_type": "execute_result"
    }
   ],
   "source": [
    "print(\"For the top-selling game of all time, how many standard deviations above/below the mean are its sales for North America?\")\n",
    "deviations=games['NA_Sales'].std()\n",
    "deviations\n",
    "\n"
   ]
  },
  {
   "cell_type": "code",
   "execution_count": 168,
   "metadata": {},
   "outputs": [
    {
     "name": "stdout",
     "output_type": "stream",
     "text": [
      "Come up with 3 more questions that can be answered with this data set.\n"
     ]
    },
    {
     "data": {
      "text/plain": [
       "(0.09999999999999998, 0.10000000000000002)"
      ]
     },
     "execution_count": 168,
     "metadata": {},
     "output_type": "execute_result"
    }
   ],
   "source": [
    "print(\"Come up with 3 more questions that can be answered with this data set.\")\n",
    "game_wii=games[games['Platform']=='Wii']\n",
    "game_not_wii=games[games['Platform']!='Wii']\n",
    "ten_median_na_seller_names= game_not_wii['Global_Sales'].mean(),game_wii['Global_Sales'].mean()\n",
    "ten_median_na_seller_names\n",
    "\n"
   ]
  },
  {
   "cell_type": "code",
   "execution_count": 182,
   "metadata": {},
   "outputs": [
    {
     "name": "stdout",
     "output_type": "stream",
     "text": [
      "Success!!!\n"
     ]
    }
   ],
   "source": [
    "def test():\n",
    "\n",
    "    def assert_equal(actual,expected):\n",
    "        assert actual == expected, f\"Expected {expected} but got {actual}\"\n",
    "\n",
    "    assert_equal(most_common_publisher, 'Activision')\n",
    "    assert_equal(most_common_platform, 'DS')\n",
    "    assert_equal(most_common_genre, 'Action')\n",
    "    assert_equal(top_twenty_highest_grossing_games.iloc[0].Name, 'Winning Eleven: Pro Evolution Soccer 2007')\n",
    "    assert_equal(top_twenty_highest_grossing_games.iloc[19].Name, 'Thrillville: Off the Rails')\n",
    "    # assert_equal(na_median_sales, None)\n",
    "    assert_equal(ten_median_na_seller_names, (0.09999999999999998, 0.10000000000000002))\n",
    "\n",
    "    print(\"Success!!!\")\n",
    "\n",
    "test()\n"
   ]
  }
 ],
 "metadata": {
  "interpreter": {
   "hash": "811be7f96bd82aa4c2af05d760b9df5e33b10b3fe9ee6fa8038f38816fb10a1f"
  },
  "kernelspec": {
   "display_name": "Python 3.9.5 64-bit ('.venv': poetry)",
   "name": "python3"
  },
  "language_info": {
   "codemirror_mode": {
    "name": "ipython",
    "version": 3
   },
   "file_extension": ".py",
   "mimetype": "text/x-python",
   "name": "python",
   "nbconvert_exporter": "python",
   "pygments_lexer": "ipython3",
   "version": "3.9.5"
  },
  "orig_nbformat": 4
 },
 "nbformat": 4,
 "nbformat_minor": 2
}
